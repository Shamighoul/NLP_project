{
 "cells": [
  {
   "cell_type": "code",
   "execution_count": 2,
   "metadata": {
    "_cell_guid": "b1076dfc-b9ad-4769-8c92-a6c4dae69d19",
    "_uuid": "8f2839f25d086af736a60e9eeb907d3b93b6e0e5",
    "execution": {
     "iopub.execute_input": "2025-06-19T11:17:00.895328Z",
     "iopub.status.busy": "2025-06-19T11:17:00.895066Z",
     "iopub.status.idle": "2025-06-19T11:17:06.254892Z",
     "shell.execute_reply": "2025-06-19T11:17:06.254349Z",
     "shell.execute_reply.started": "2025-06-19T11:17:00.895304Z"
    },
    "trusted": true
   },
   "outputs": [],
   "source": [
    "import argparse\n",
    "import re\n",
    "from collections import Counter\n",
    "import torch\n",
    "import torch.nn as nn\n",
    "from torch.utils.data import Dataset, DataLoader\n",
    "from torch.nn.utils.rnn import pad_sequence\n",
    "from tqdm import tqdm\n",
    "import pandas as pd\n",
    "import random\n",
    "from nltk.translate.bleu_score import corpus_bleu\n",
    "from rouge_score import rouge_scorer"
   ]
  },
  {
   "cell_type": "code",
   "execution_count": null,
   "metadata": {
    "execution": {
     "iopub.execute_input": "2025-06-19T11:17:06.255879Z",
     "iopub.status.busy": "2025-06-19T11:17:06.255577Z",
     "iopub.status.idle": "2025-06-19T11:17:06.259814Z",
     "shell.execute_reply": "2025-06-19T11:17:06.259120Z",
     "shell.execute_reply.started": "2025-06-19T11:17:06.255863Z"
    },
    "trusted": true
   },
   "outputs": [],
   "source": [
    "INPUT_CSV_PATH = \"../3A2M_EXTENDED.csv\"\n",
    "OUTPUT_DIR = \"./gpt2-ner2directions-optimized\"\n",
    "TOKENIZED_CACHE = \"./tokenized_data\"\n",
    "TRAIN_FILE = \"train_ner2dir.txt\"\n",
    "VAL_FILE = \"val_ner2dir.txt\"\n",
    "BLOCK_SIZE = 512  # smaller blocks to reduce padding waste\n",
    "NUM_PROC = 4      # CPU cores for preprocessing"
   ]
  },
  {
   "cell_type": "code",
   "execution_count": 4,
   "metadata": {
    "execution": {
     "iopub.execute_input": "2025-06-19T11:17:06.260738Z",
     "iopub.status.busy": "2025-06-19T11:17:06.260554Z",
     "iopub.status.idle": "2025-06-19T11:17:53.272352Z",
     "shell.execute_reply": "2025-06-19T11:17:53.271782Z",
     "shell.execute_reply.started": "2025-06-19T11:17:06.260723Z"
    },
    "trusted": true
   },
   "outputs": [],
   "source": [
    "df = pd.read_csv(INPUT_CSV_PATH)[:int(1e5)]\n",
    "if \"NER\" not in df.columns or \"directions\" not in df.columns:\n",
    "    raise ValueError(\"CSV must contain 'NER' and 'directions' columns.\")\n",
    "DF = df.dropna(subset=[\"NER\", \"directions\"]).reset_index(drop=True)\n",
    "\n",
    "def format_example_from_ner(ner_text: str, directions_text: str) -> str:\n",
    "    parts = [\"NER:\"]\n",
    "    for ent in ner_text.split(\",\"):\n",
    "        ent = ent.strip()\n",
    "        if ent:\n",
    "            parts.append(f\"- {ent}\")\n",
    "    parts.append(\"\")\n",
    "    parts.append(\"Directions:\")\n",
    "    for idx, step in enumerate(directions_text.split(\"\\n\"), start=1):\n",
    "        step = step.strip()\n",
    "        if step:\n",
    "            parts.append(f\"{idx}. {step}\")\n",
    "    return \"\\n\".join(parts) + \"\\n\\n\"\n",
    "\n",
    "examples = [format_example_from_ner(row[\"NER\"], row[\"directions\"]) for _, row in DF.iterrows()]\n",
    "random.seed(42)\n",
    "random.shuffle(examples)\n",
    "split_idx = int(0.9 * len(examples))\n",
    "with open(TRAIN_FILE, \"w\", encoding=\"utf-8\") as f:\n",
    "    f.writelines(examples[:split_idx])\n",
    "with open(VAL_FILE, \"w\", encoding=\"utf-8\") as f:\n",
    "    f.writelines(examples[split_idx:])"
   ]
  },
  {
   "cell_type": "code",
   "execution_count": 5,
   "metadata": {
    "_cell_guid": "b1076dfc-b9ad-4769-8c92-a6c4dae69d19",
    "_uuid": "8f2839f25d086af736a60e9eeb907d3b93b6e0e5",
    "execution": {
     "iopub.execute_input": "2025-06-19T11:17:53.273465Z",
     "iopub.status.busy": "2025-06-19T11:17:53.273152Z",
     "iopub.status.idle": "2025-06-19T11:17:53.287753Z",
     "shell.execute_reply": "2025-06-19T11:17:53.287072Z",
     "shell.execute_reply.started": "2025-06-19T11:17:53.273439Z"
    },
    "trusted": true
   },
   "outputs": [],
   "source": [
    "# -----------------------------\n",
    "# Data utilities\n",
    "# -----------------------------\n",
    "\n",
    "def parse_examples(path):\n",
    "    \"\"\"\n",
    "    Read examples from a file where each example is two paragraphs:\n",
    "      NER:\n",
    "      - entity1\n",
    "      - entity2\n",
    "      ...\n",
    "\n",
    "      Directions:\n",
    "      1. step one\n",
    "      2. step two\n",
    "      ...\n",
    "    Returns list of (input_str, target_str)\n",
    "    \"\"\"\n",
    "    examples = []\n",
    "    with open(path, encoding='utf-8') as f:\n",
    "        text = f.read().strip()\n",
    "    for block in text.split(\"\\n\\nNER:\"):\n",
    "        block = block.strip()\n",
    "        if not block:\n",
    "            continue\n",
    "        if not block.startswith(\"NER:\"):\n",
    "            block = \"NER:\" + \"\\n\" + block\n",
    "        parts = block.split(\"\\n\\nDirections:\")\n",
    "        if len(parts) != 2:\n",
    "            continue\n",
    "        ner_block, dir_block = parts\n",
    "        # extract entities\n",
    "        ents = re.findall(r\"^-\\s*(.+)$\", ner_block, flags=re.MULTILINE)\n",
    "        # extract steps\n",
    "        steps = re.findall(r\"^\\d+\\.\\s*(.+)$\", dir_block, flags=re.MULTILINE)\n",
    "        input_str = \" \".join(ents)\n",
    "        target_str = \" <sep> \".join(steps)\n",
    "        examples.append((input_str, target_str))\n",
    "    return examples\n",
    "\n",
    "class Vocab:\n",
    "    def __init__(self, tokens, min_freq=2, reserved_tokens=None):\n",
    "        counter = Counter(tokens)\n",
    "        self.reserved = [\"<pad>\", \"<bos>\", \"<eos>\", \"<unk>\"] + (reserved_tokens or [])\n",
    "        # only keep tokens with freq >= min_freq\n",
    "        self.tokens = [t for t, c in counter.items() if c >= min_freq]\n",
    "        self.idx_to_token = self.reserved + self.tokens\n",
    "        self.token_to_idx = {t: i for i, t in enumerate(self.idx_to_token)}\n",
    "\n",
    "    def __len__(self): return len(self.idx_to_token)\n",
    "    def __getitem__(self, token): return self.token_to_idx.get(token, self.token_to_idx['<unk>'])\n",
    "    def to_tokens(self, indices): return [self.idx_to_token[i] for i in indices]\n",
    "\n",
    "class Seq2SeqDataset(Dataset):\n",
    "    def __init__(self, examples, src_vocab, tgt_vocab, max_src_len=50, max_tgt_len=100):\n",
    "        self.examples = examples\n",
    "        self.src_vocab = src_vocab\n",
    "        self.tgt_vocab = tgt_vocab\n",
    "        self.max_src_len = max_src_len\n",
    "        self.max_tgt_len = max_tgt_len\n",
    "\n",
    "    def __len__(self): return len(self.examples)\n",
    "\n",
    "    def __getitem__(self, idx):\n",
    "        src, tgt = self.examples[idx]\n",
    "        # tokenize\n",
    "        src_tokens = src.split()[:self.max_src_len]\n",
    "        tgt_tokens = tgt.split()[:self.max_tgt_len]\n",
    "        # indices\n",
    "        src_ids = [self.src_vocab[t] for t in src_tokens]\n",
    "        # add BOS/EOS to target\n",
    "        tgt_ids = [self.tgt_vocab['<bos>']] + [self.tgt_vocab[t] for t in tgt_tokens] + [self.tgt_vocab['<eos>']]\n",
    "        return torch.tensor(src_ids, dtype=torch.long), torch.tensor(tgt_ids, dtype=torch.long)\n",
    "\n",
    "def collate_fn(batch):\n",
    "    src_batch, tgt_batch = zip(*batch)\n",
    "    src_lens = [len(x) for x in src_batch]\n",
    "    tgt_lens = [len(x) for x in tgt_batch]\n",
    "    src_padded = pad_sequence(src_batch, batch_first=True, padding_value=0)\n",
    "    tgt_padded = pad_sequence(tgt_batch, batch_first=True, padding_value=0)\n",
    "    return src_padded, torch.tensor(src_lens), tgt_padded, torch.tensor(tgt_lens)"
   ]
  },
  {
   "cell_type": "code",
   "execution_count": 6,
   "metadata": {
    "_cell_guid": "b1076dfc-b9ad-4769-8c92-a6c4dae69d19",
    "_uuid": "8f2839f25d086af736a60e9eeb907d3b93b6e0e5",
    "execution": {
     "iopub.execute_input": "2025-06-19T11:17:53.288608Z",
     "iopub.status.busy": "2025-06-19T11:17:53.288370Z",
     "iopub.status.idle": "2025-06-19T11:17:53.313165Z",
     "shell.execute_reply": "2025-06-19T11:17:53.312529Z",
     "shell.execute_reply.started": "2025-06-19T11:17:53.288591Z"
    },
    "trusted": true
   },
   "outputs": [],
   "source": [
    "# -----------------------------\n",
    "# Model\n",
    "# -----------------------------\n",
    "class Encoder(nn.Module):\n",
    "    def __init__(self, vocab_size, emb_size, hid_size, num_layers=1):\n",
    "        super().__init__()\n",
    "        self.embedding = nn.Embedding(vocab_size, emb_size, padding_idx=0)\n",
    "        self.lstm = nn.LSTM(emb_size, hid_size, num_layers, batch_first=True)\n",
    "\n",
    "    def forward(self, x, lengths):\n",
    "        embedded = self.embedding(x)\n",
    "        packed = nn.utils.rnn.pack_padded_sequence(embedded, lengths.cpu(), batch_first=True, enforce_sorted=False)\n",
    "        outputs, (h, c) = self.lstm(packed)\n",
    "        return h, c\n",
    "\n",
    "class Decoder(nn.Module):\n",
    "    def __init__(self, vocab_size, emb_size, hid_size, num_layers=1):\n",
    "        super().__init__()\n",
    "        self.embedding = nn.Embedding(vocab_size, emb_size, padding_idx=0)\n",
    "        self.lstm = nn.LSTM(emb_size, hid_size, num_layers, batch_first=True)\n",
    "        self.fc = nn.Linear(hid_size, vocab_size)\n",
    "\n",
    "    def forward(self, y, h, c):\n",
    "        emb = self.embedding(y)\n",
    "        outputs, (h, c) = self.lstm(emb, (h, c))\n",
    "        logits = self.fc(outputs)\n",
    "        return logits, (h, c)\n",
    "\n",
    "class Seq2Seq(nn.Module):\n",
    "    def __init__(self, encoder, decoder):\n",
    "        super().__init__()\n",
    "        self.encoder = encoder\n",
    "        self.decoder = decoder\n",
    "\n",
    "    def forward(self, src, src_len, tgt, tgt_len=None):\n",
    "        h, c = self.encoder(src, src_len)\n",
    "        logits, _ = self.decoder(tgt[:, :-1], h, c)\n",
    "        return logits\n",
    "\n",
    "    def generate(self, src, src_len, max_len=100, bos_idx=1, eos_idx=2):\n",
    "            \"\"\"\n",
    "            Greedy decoding: repeatedly feed back the last token.\n",
    "            \"\"\"\n",
    "            self.eval()\n",
    "            h, c = self.encoder(src, src_len)\n",
    "            batch_size = src.size(0)\n",
    "            # start with BOS\n",
    "            generated = torch.full((batch_size, 1), bos_idx, dtype=torch.long, device=src.device)\n",
    "            for _ in range(max_len):\n",
    "                logits, (h, c) = self.decoder(generated[:, -1:], h, c)\n",
    "                next_token = logits.argmax(-1)  # (batch, 1)\n",
    "                generated = torch.cat([generated, next_token], dim=1)\n",
    "                # if all sequences have emitted EOS, stop early\n",
    "                if (next_token == eos_idx).all():\n",
    "                    break\n",
    "            return generated"
   ]
  },
  {
   "cell_type": "code",
   "execution_count": 7,
   "metadata": {
    "_cell_guid": "b1076dfc-b9ad-4769-8c92-a6c4dae69d19",
    "_uuid": "8f2839f25d086af736a60e9eeb907d3b93b6e0e5",
    "execution": {
     "iopub.execute_input": "2025-06-19T11:17:53.315512Z",
     "iopub.status.busy": "2025-06-19T11:17:53.315063Z",
     "iopub.status.idle": "2025-06-19T11:17:53.334831Z",
     "shell.execute_reply": "2025-06-19T11:17:53.334184Z",
     "shell.execute_reply.started": "2025-06-19T11:17:53.315491Z"
    },
    "trusted": true
   },
   "outputs": [],
   "source": [
    "# -----------------------------\n",
    "# Training\n",
    "# -----------------------------\n",
    "def train(args):\n",
    "    # parse data\n",
    "    train_ex = parse_examples(args.train_file)\n",
    "    val_ex = parse_examples(args.val_file)\n",
    "    scorer = rouge_scorer.RougeScorer(['rouge1','rougeL'], use_stemmer=True)\n",
    "    # build vocabs\n",
    "    all_src_tok = []\n",
    "    all_tgt_tok = []\n",
    "    for s, t in train_ex:\n",
    "        all_src_tok += s.split()\n",
    "        all_tgt_tok += t.split()\n",
    "    src_vocab = Vocab(all_src_tok, min_freq=2)\n",
    "    tgt_vocab = Vocab(all_tgt_tok, min_freq=2)\n",
    "\n",
    "    train_ds = Seq2SeqDataset(train_ex, src_vocab, tgt_vocab)\n",
    "    val_ds   = Seq2SeqDataset(val_ex, src_vocab, tgt_vocab)\n",
    "    train_loader = DataLoader(train_ds, batch_size=args.batch_size, shuffle=True, collate_fn=collate_fn)\n",
    "    val_loader   = DataLoader(val_ds, batch_size=args.batch_size, collate_fn=collate_fn)\n",
    "\n",
    "    device = torch.device('cuda' if torch.cuda.is_available() else 'cpu')\n",
    "    encoder = Encoder(len(src_vocab), args.emb_size, args.hid_size).to(device)\n",
    "    decoder = Decoder(len(tgt_vocab), args.emb_size, args.hid_size).to(device)\n",
    "    model = Seq2Seq(encoder, decoder).to(device)\n",
    "\n",
    "    criterion = nn.CrossEntropyLoss(ignore_index=0)\n",
    "    optimizer = torch.optim.Adam(model.parameters(), lr=args.lr)\n",
    "\n",
    "    scorer = rouge_scorer.RougeScorer(['rouge1','rouge2','rougeL'], use_stemmer=True)\n",
    "\n",
    "    for epoch in range(1, args.epochs + 1):\n",
    "        model.train()\n",
    "        total_loss = 0\n",
    "        for src, src_len, tgt, _ in tqdm(train_loader, desc=f\"Train Epoch {epoch}\"):\n",
    "            src, src_len, tgt = src.to(device), src_len.to(device), tgt.to(device)\n",
    "            optimizer.zero_grad()\n",
    "            logits = model(src, src_len, tgt)\n",
    "            loss = criterion(logits.reshape(-1, logits.size(-1)), tgt[:,1:].reshape(-1))\n",
    "            loss.backward()\n",
    "            optimizer.step()\n",
    "            total_loss += loss.item()\n",
    "        print(f\"Epoch {epoch} Train Loss: {total_loss/len(train_loader):.4f}\")\n",
    "\n",
    "        model.eval()\n",
    "        val_loss = 0\n",
    "        refs, hyps = [], []\n",
    "        with torch.no_grad():\n",
    "            for src, src_len, tgt, _ in tqdm(val_loader, desc=\"Validate\"):\n",
    "                src, src_len, tgt = src.to(device), src_len.to(device), tgt.to(device)\n",
    "                logits = model(src, src_len, tgt)\n",
    "                val_loss += criterion(logits.reshape(-1, logits.size(-1)), tgt[:,1:].reshape(-1)).item()\n",
    "                gen_ids = model.generate(src, src_len, max_len=args.max_tgt_len,\n",
    "                                         bos_idx=tgt_vocab['<bos>'], eos_idx=tgt_vocab['<eos>'])\n",
    "                for i in range(src.size(0)):\n",
    "                    ref = [tgt_vocab.idx_to_token[id] for id in tgt[i,1:].tolist() if id not in (0, tgt_vocab['<eos>'])]\n",
    "                    hyp = [tgt_vocab.idx_to_token[id] for id in gen_ids[i,1:].tolist() if id not in (0, tgt_vocab['<eos>'])]\n",
    "                    refs.append([ref])\n",
    "                    hyps.append(hyp)\n",
    "        avg_val_loss = val_loss / len(val_loader)\n",
    "        bleu = corpus_bleu(refs, hyps)\n",
    "        rouge_scores = [scorer.score(' '.join(r[0]), ' '.join(h)) for r,h in zip(refs, hyps)]\n",
    "        avg_rouge1 = sum(s['rouge1'].fmeasure for s in rouge_scores) / len(rouge_scores)\n",
    "        avg_rouge2 = sum(s['rouge2'].fmeasure for s in rouge_scores) / len(rouge_scores)\n",
    "        avg_rougeL = sum(s['rougeL'].fmeasure for s in rouge_scores) / len(rouge_scores)\n",
    "        print(\n",
    "            f\"Epoch {epoch} Val Loss: {avg_val_loss:.4f} \"\n",
    "            f\"| BLEU: {bleu:.4f} \"\n",
    "            f\"| ROUGE-1: {avg_rouge1:.4f} \"\n",
    "            f\"| ROUGE-2: {avg_rouge2:.4f} \"\n",
    "            f\"| ROUGE-L: {avg_rougeL:.4f}\"\n",
    "        )"
   ]
  },
  {
   "cell_type": "code",
   "execution_count": null,
   "metadata": {
    "_cell_guid": "b1076dfc-b9ad-4769-8c92-a6c4dae69d19",
    "_uuid": "8f2839f25d086af736a60e9eeb907d3b93b6e0e5",
    "execution": {
     "iopub.execute_input": "2025-06-19T11:17:53.335601Z",
     "iopub.status.busy": "2025-06-19T11:17:53.335430Z",
     "iopub.status.idle": "2025-06-19T11:38:49.650506Z",
     "shell.execute_reply": "2025-06-19T11:38:49.649623Z",
     "shell.execute_reply.started": "2025-06-19T11:17:53.335587Z"
    },
    "trusted": true
   },
   "outputs": [
    {
     "name": "stderr",
     "output_type": "stream",
     "text": [
      "Train Epoch 1: 100%|██████████| 2813/2813 [03:11<00:00, 14.67it/s]\n"
     ]
    },
    {
     "name": "stdout",
     "output_type": "stream",
     "text": [
      "Epoch 1 Train Loss: 4.8347\n"
     ]
    },
    {
     "name": "stderr",
     "output_type": "stream",
     "text": [
      "Validate: 100%|██████████| 313/313 [00:32<00:00,  9.59it/s]\n"
     ]
    },
    {
     "name": "stdout",
     "output_type": "stream",
     "text": [
      "Epoch 1 Val Loss: 3.9977 | BLEU: 0.0114 | ROUGE-1: 0.1783 | ROUGE-2: 0.0323 | ROUGE-L: 0.1346\n"
     ]
    },
    {
     "name": "stderr",
     "output_type": "stream",
     "text": [
      "Train Epoch 2: 100%|██████████| 2813/2813 [03:11<00:00, 14.71it/s]\n"
     ]
    },
    {
     "name": "stdout",
     "output_type": "stream",
     "text": [
      "Epoch 2 Train Loss: 3.7613\n"
     ]
    },
    {
     "name": "stderr",
     "output_type": "stream",
     "text": [
      "Validate: 100%|██████████| 313/313 [00:32<00:00,  9.70it/s]\n"
     ]
    },
    {
     "name": "stdout",
     "output_type": "stream",
     "text": [
      "Epoch 2 Val Loss: 3.6215 | BLEU: 0.0223 | ROUGE-1: 0.2589 | ROUGE-2: 0.0601 | ROUGE-L: 0.1851\n"
     ]
    },
    {
     "name": "stderr",
     "output_type": "stream",
     "text": [
      "Train Epoch 3: 100%|██████████| 2813/2813 [03:11<00:00, 14.70it/s]\n"
     ]
    },
    {
     "name": "stdout",
     "output_type": "stream",
     "text": [
      "Epoch 3 Train Loss: 3.4406\n"
     ]
    },
    {
     "name": "stderr",
     "output_type": "stream",
     "text": [
      "Validate: 100%|██████████| 313/313 [00:32<00:00,  9.67it/s]\n"
     ]
    },
    {
     "name": "stdout",
     "output_type": "stream",
     "text": [
      "Epoch 3 Val Loss: 3.4709 | BLEU: 0.0252 | ROUGE-1: 0.2678 | ROUGE-2: 0.0612 | ROUGE-L: 0.1863\n"
     ]
    },
    {
     "name": "stderr",
     "output_type": "stream",
     "text": [
      "Train Epoch 4: 100%|██████████| 2813/2813 [03:11<00:00, 14.71it/s]\n"
     ]
    },
    {
     "name": "stdout",
     "output_type": "stream",
     "text": [
      "Epoch 4 Train Loss: 3.2563\n"
     ]
    },
    {
     "name": "stderr",
     "output_type": "stream",
     "text": [
      "Validate: 100%|██████████| 313/313 [00:32<00:00,  9.67it/s]\n"
     ]
    },
    {
     "name": "stdout",
     "output_type": "stream",
     "text": [
      "Epoch 4 Val Loss: 3.3972 | BLEU: 0.0281 | ROUGE-1: 0.2871 | ROUGE-2: 0.0709 | ROUGE-L: 0.1995\n"
     ]
    },
    {
     "name": "stderr",
     "output_type": "stream",
     "text": [
      "Train Epoch 5: 100%|██████████| 2813/2813 [03:11<00:00, 14.67it/s]\n"
     ]
    },
    {
     "name": "stdout",
     "output_type": "stream",
     "text": [
      "Epoch 5 Train Loss: 3.1288\n"
     ]
    },
    {
     "name": "stderr",
     "output_type": "stream",
     "text": [
      "Validate: 100%|██████████| 313/313 [00:32<00:00,  9.62it/s]\n"
     ]
    },
    {
     "name": "stdout",
     "output_type": "stream",
     "text": [
      "Epoch 5 Val Loss: 3.3610 | BLEU: 0.0291 | ROUGE-1: 0.2968 | ROUGE-2: 0.0738 | ROUGE-L: 0.2062\n"
     ]
    }
   ],
   "source": [
    "# --- Notebook usage cell ---\n",
    "\n",
    "from types import SimpleNamespace\n",
    "\n",
    "# 1) define your paths & hyper-params\n",
    "args = SimpleNamespace(\n",
    "    train_file=\"train_ner2dir.txt\",\n",
    "    val_file=\"val_ner2dir.txt\",\n",
    "    epochs=10,\n",
    "    batch_size=32,\n",
    "    emb_size=128,\n",
    "    hid_size=256,\n",
    "    lr=1e-3,\n",
    "    max_tgt_len=100\n",
    ")\n",
    "\n",
    "# 2) kick off training\n",
    "train(args)"
   ]
  },
  {
   "cell_type": "code",
   "execution_count": null,
   "metadata": {
    "trusted": true
   },
   "outputs": [],
   "source": []
  }
 ],
 "metadata": {
  "kaggle": {
   "accelerator": "gpu",
   "dataSources": [
    {
     "datasetId": 2957522,
     "sourceId": 5093016,
     "sourceType": "datasetVersion"
    }
   ],
   "dockerImageVersionId": 31041,
   "isGpuEnabled": true,
   "isInternetEnabled": true,
   "language": "python",
   "sourceType": "notebook"
  },
  "kernelspec": {
   "display_name": "venv",
   "language": "python",
   "name": "python3"
  },
  "language_info": {
   "codemirror_mode": {
    "name": "ipython",
    "version": 3
   },
   "file_extension": ".py",
   "mimetype": "text/x-python",
   "name": "python",
   "nbconvert_exporter": "python",
   "pygments_lexer": "ipython3",
   "version": "3.12.10"
  }
 },
 "nbformat": 4,
 "nbformat_minor": 4
}
